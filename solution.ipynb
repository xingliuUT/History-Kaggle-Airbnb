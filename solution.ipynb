{
 "cells": [
  {
   "cell_type": "markdown",
   "metadata": {},
   "source": [
    "# History Kaggle: Airbnb New User Bookings"
   ]
  },
  {
   "cell_type": "markdown",
   "metadata": {},
   "source": [
    "## Download data\n",
    "Data for this project are downloaded from the following link:<br/>\n",
    "https://www.kaggle.com/c/airbnb-recruiting-new-user-bookings/data\n",
    "\n",
    "I learn from script posts:\n",
    "1. https://www.kaggle.com/kevinwu06/airbnb-exploratory-analysis\\\n",
    "2. https://www.kaggle.com/davidgasquez/user-data-exploration\n",
    "3. https://www.kaggle.com/svpons/feature-engineering\n",
    "4. https://www.kaggle.com/svpons/three-level-classification-architecture\n",
    "\n",
    "Format follow:\n",
    "https://github.com/udacity/machine-learning/blob/master/projects/capstone/capstone_report_template.md"
   ]
  },
  {
   "cell_type": "code",
   "execution_count": 29,
   "metadata": {
    "collapsed": true
   },
   "outputs": [],
   "source": [
    "import numpy as np\n",
    "import pandas as pd\n",
    "import matplotlib.pyplot as plt\n",
    "%matplotlib inline\n",
    "plt.style.use('ggplot')\n",
    "import seaborn as sns\n",
    "import datetime\n",
    "from scipy import sparse\n",
    "# import warnings\n",
    "# warnings.filterwarnings('ignore')    # suppress warnings for clean demo\n",
    "\n",
    "pd.set_option('display.max_rows', None)    #don't hide any rows or columns when display\n",
    "pd.set_option('display.max_columns', None)\n",
    "\n",
    "from sklearn.preprocessing import LabelEncoder, StandardScaler, OneHotEncoder\n",
    "from scipy import sparse\n",
    "from sklearn.model_selection import train_test_split, GridSearchCV\n",
    "import xgboost as xgb"
   ]
  },
  {
   "cell_type": "markdown",
   "metadata": {},
   "source": [
    "### Data Preprocessing"
   ]
  },
  {
   "cell_type": "markdown",
   "metadata": {},
   "source": [
    "#### Users dataset (2 files)"
   ]
  },
  {
   "cell_type": "code",
   "execution_count": 2,
   "metadata": {
    "collapsed": true
   },
   "outputs": [],
   "source": [
    "train_users_data = pd.read_csv(\"train_users_2.csv\")\n",
    "test_users_data = pd.read_csv(\"test_users.csv\")"
   ]
  },
  {
   "cell_type": "code",
   "execution_count": 3,
   "metadata": {},
   "outputs": [
    {
     "name": "stdout",
     "output_type": "stream",
     "text": [
      "There are 213,451 rows and 16 columns in the train_users data.\n",
      "There are 62,096 rows and 15 columns in the test_users data.\n"
     ]
    }
   ],
   "source": [
    "num_rows_train, num_cols_train = train_users_data.shape\n",
    "print(\"There are {:,} rows and {:,} columns in the train_users data.\".format(num_rows_train, num_cols_train))\n",
    "num_rows_test, num_cols_test = test_users_data.shape\n",
    "print(\"There are {:,} rows and {:,} columns in the test_users data.\".format(num_rows_test, num_cols_test))"
   ]
  },
  {
   "cell_type": "markdown",
   "metadata": {},
   "source": [
    "#### User Web Sessions Record (1 file)\n",
    "\n",
    "Sessions file contains, for each user_id, the action, action type, action detail, device type and the time elapsed from the previous action. The sessions data goes back to Jan 1, 2014 which is only a small recent portion of the users data that dates back to 2010. "
   ]
  },
  {
   "cell_type": "code",
   "execution_count": 4,
   "metadata": {
    "collapsed": true
   },
   "outputs": [],
   "source": [
    "sessions_data = pd.read_csv(\"sessions.csv\")"
   ]
  },
  {
   "cell_type": "code",
   "execution_count": 5,
   "metadata": {},
   "outputs": [
    {
     "name": "stdout",
     "output_type": "stream",
     "text": [
      "There are 10,567,737 rows and 6 columns in the sessions data\n"
     ]
    }
   ],
   "source": [
    "num_rows_sessions, num_cols_sessions = sessions_data.shape\n",
    "print(\"There are {:,} rows and {:,} columns in the sessions data\".format(num_rows_sessions, num_cols_sessions))"
   ]
  },
  {
   "cell_type": "code",
   "execution_count": 6,
   "metadata": {
    "collapsed": true
   },
   "outputs": [],
   "source": [
    "sessions_data = sessions_data[sessions_data.user_id.notnull()]"
   ]
  },
  {
   "cell_type": "code",
   "execution_count": 9,
   "metadata": {
    "collapsed": true
   },
   "outputs": [],
   "source": [
    "sessions_total_secs = sessions_data.loc[:,['user_id', 'secs_elapsed']].groupby('user_id').sum()"
   ]
  },
  {
   "cell_type": "code",
   "execution_count": 10,
   "metadata": {
    "collapsed": true
   },
   "outputs": [],
   "source": [
    "sessions_action_counts = sessions_data.loc[:,['user_id', 'action']].groupby('user_id').count()"
   ]
  },
  {
   "cell_type": "markdown",
   "metadata": {},
   "source": [
    "#### Datetime features & `country_destination`"
   ]
  },
  {
   "cell_type": "code",
   "execution_count": 8,
   "metadata": {
    "collapsed": true
   },
   "outputs": [],
   "source": [
    "train_users_data.loc[:,'date_account_created'] = pd.to_datetime(train_users_data.date_account_created)\n",
    "test_users_data.loc[:,'date_account_created'] = pd.to_datetime(test_users_data.date_account_created)"
   ]
  },
  {
   "cell_type": "code",
   "execution_count": 9,
   "metadata": {
    "collapsed": true
   },
   "outputs": [],
   "source": [
    "train_users_data.loc[:,'date_account_created'] = train_users_data.date_account_created.apply(lambda x: pd.to_datetime(x.strftime('%x')))\n",
    "test_users_data.loc[:,'date_account_created'] = test_users_data.date_account_created.apply(lambda x: pd.to_datetime(x.strftime('%x')))"
   ]
  },
  {
   "cell_type": "code",
   "execution_count": 10,
   "metadata": {
    "collapsed": true
   },
   "outputs": [],
   "source": [
    "train_users_data.loc[:,'timestamp_first_active'] = pd.to_datetime(train_users_data.timestamp_first_active.apply(str))\n",
    "test_users_data.loc[:,'timestamp_first_active'] = pd.to_datetime(test_users_data.timestamp_first_active.apply(str))"
   ]
  },
  {
   "cell_type": "markdown",
   "metadata": {},
   "source": [
    "#### Combine train & test data to preprocess together"
   ]
  },
  {
   "cell_type": "code",
   "execution_count": 11,
   "metadata": {
    "collapsed": true
   },
   "outputs": [],
   "source": [
    "id_test = test_users_data['id']\n",
    "train_users_data.drop(['date_first_booking'], axis = 1, inplace = True)\n",
    "test_users_data.drop(['date_first_booking'], axis = 1, inplace = True)"
   ]
  },
  {
   "cell_type": "code",
   "execution_count": 14,
   "metadata": {
    "collapsed": true
   },
   "outputs": [],
   "source": [
    "full_data = pd.concat([train_users_data, test_users_data], axis = 0, ignore_index = True)\n",
    "full_data.drop(['country_destination'], axis = 1, inplace = True)"
   ]
  },
  {
   "cell_type": "code",
   "execution_count": 22,
   "metadata": {},
   "outputs": [
    {
     "data": {
      "text/plain": [
       "(275547, 15)"
      ]
     },
     "execution_count": 22,
     "metadata": {},
     "output_type": "execute_result"
    }
   ],
   "source": [
    "full_data.shape"
   ]
  },
  {
   "cell_type": "markdown",
   "metadata": {},
   "source": [
    "#### Convert the continuous `Age` into categories"
   ]
  },
  {
   "cell_type": "code",
   "execution_count": 16,
   "metadata": {
    "collapsed": true
   },
   "outputs": [],
   "source": [
    "# set age outside of valid age range (10, 100] to nan\n",
    "valid_age_index = full_data.age.apply(lambda x: 10 < x <= 100)\n",
    "full_data.loc[~valid_age_index, 'age'] = np.nan"
   ]
  },
  {
   "cell_type": "code",
   "execution_count": 17,
   "metadata": {
    "collapsed": true
   },
   "outputs": [],
   "source": [
    "# pd.cut has the convention that 30 belongs to 25-29, but 25 doesn't  \n",
    "age_gender_bkts_data = pd.read_csv(\"age_gender_bkts.csv\")\n",
    "age_bins = np.arange(10., 105., 5.).tolist()\n",
    "age_names = list(reversed(age_gender_bkts_data.age_bucket.unique()))[2:-1]\n",
    "full_data['age_bucket_col'] = pd.cut(full_data.age, age_bins, labels = age_names)"
   ]
  },
  {
   "cell_type": "markdown",
   "metadata": {},
   "source": [
    "#### Add features engineered using `sessions` data"
   ]
  },
  {
   "cell_type": "code",
   "execution_count": 19,
   "metadata": {},
   "outputs": [],
   "source": [
    "# sessions_total_secs['id'] = sessions_total_secs.index\n",
    "# sessions_action_counts['id'] = sessions_action_counts.index"
   ]
  },
  {
   "cell_type": "code",
   "execution_count": 20,
   "metadata": {
    "collapsed": true
   },
   "outputs": [],
   "source": [
    "# full_data = pd.merge(full_data, sessions_total_secs, how = 'left', on = 'id')\n",
    "# full_data = pd.merge(full_data, sessions_action_counts, how = 'left', on = 'id')"
   ]
  },
  {
   "cell_type": "markdown",
   "metadata": {},
   "source": [
    "#### Add features from datetime feature"
   ]
  },
  {
   "cell_type": "code",
   "execution_count": 21,
   "metadata": {},
   "outputs": [
    {
     "data": {
      "text/plain": [
       "Index(['affiliate_channel', 'affiliate_provider', 'age',\n",
       "       'date_account_created', 'first_affiliate_tracked', 'first_browser',\n",
       "       'first_device_type', 'gender', 'id', 'language', 'signup_app',\n",
       "       'signup_flow', 'signup_method', 'timestamp_first_active',\n",
       "       'age_bucket_col'],\n",
       "      dtype='object')"
      ]
     },
     "execution_count": 21,
     "metadata": {},
     "output_type": "execute_result"
    }
   ],
   "source": [
    "full_data.columns"
   ]
  },
  {
   "cell_type": "code",
   "execution_count": 23,
   "metadata": {
    "collapsed": true
   },
   "outputs": [],
   "source": [
    "# full_data.loc[:,'date_account_created'] = pd.to_datetime(full_data.date_account_created)\n",
    "# full_data.loc[:,'date_account_created'] = full_data.date_account_created.apply(lambda x: pd.to_datetime(x.strftime('%x')))\n",
    "# full_data.loc[:,'timestamp_first_active'] = pd.to_datetime(full_data.timestamp_first_active.apply(str))\n",
    "\n",
    "full_data['year_account_created'] = full_data.date_account_created.apply(lambda x: x.year)\n",
    "full_data['month_account_created'] = full_data.date_account_created.apply(lambda x: x.month)\n",
    "full_data['dayinmonth_account_created'] = full_data.date_account_created.apply(lambda x: x.day)\n",
    "# Monday is 1 and Sunday is 7\n",
    "full_data['dayinweek_account_created'] = full_data.date_account_created.apply(lambda x: x.isoweekday())"
   ]
  },
  {
   "cell_type": "code",
   "execution_count": 24,
   "metadata": {
    "collapsed": true
   },
   "outputs": [],
   "source": [
    "full_data['days_delay'] = full_data.date_account_created - full_data.timestamp_first_active.apply(lambda x: pd.to_datetime(x.strftime('%x')))"
   ]
  },
  {
   "cell_type": "code",
   "execution_count": 25,
   "metadata": {
    "collapsed": true
   },
   "outputs": [],
   "source": [
    "from pandas.tseries.holiday import USFederalHolidayCalendar as calendar\n",
    "\n",
    "cal = calendar()\n",
    "holidays = cal.holidays(start = full_data.date_account_created.min(), \n",
    "                        end = full_data.date_account_created.max())\n",
    "\n",
    "full_data['Holiday'] = full_data.date_account_created.isin(holidays)"
   ]
  },
  {
   "cell_type": "markdown",
   "metadata": {
    "collapsed": true
   },
   "source": [
    "#### Label Encoding"
   ]
  },
  {
   "cell_type": "code",
   "execution_count": 62,
   "metadata": {
    "collapsed": true
   },
   "outputs": [],
   "source": [
    "full_data.loc[:, 'age_bucket_col']  = full_data['age_bucket_col'].astype('str')"
   ]
  },
  {
   "cell_type": "code",
   "execution_count": 63,
   "metadata": {},
   "outputs": [
    {
     "name": "stdout",
     "output_type": "stream",
     "text": [
      "Label Encoding gender\n",
      "Label Encoding signup_method\n",
      "Label Encoding signup_flow\n",
      "Label Encoding language\n",
      "Label Encoding affiliate_channel\n",
      "Label Encoding affiliate_provider\n",
      "Label Encoding first_affiliate_tracked\n",
      "Label Encoding signup_app\n",
      "Label Encoding first_device_type\n",
      "Label Encoding first_browser\n",
      "Label Encoding year_account_created\n",
      "Label Encoding month_account_created\n",
      "Label Encoding dayinmonth_account_created\n",
      "Label Encoding dayinweek_account_created\n",
      "Label Encoding days_delay\n",
      "Label Encoding Holiday\n",
      "Label Encoding age_bucket_col\n",
      "Label-encoded feaures: ['gender_le', 'signup_method_le', 'signup_flow_le', 'language_le', 'affiliate_channel_le', 'affiliate_provider_le', 'first_affiliate_tracked_le', 'signup_app_le', 'first_device_type_le', 'first_browser_le', 'year_account_created_le', 'month_account_created_le', 'dayinmonth_account_created_le', 'dayinweek_account_created_le', 'days_delay_le', 'Holiday_le', 'age_bucket_col_le']\n"
     ]
    }
   ],
   "source": [
    "#TypeError: unorderable types: float() > str(): need to .fillna()\n",
    "#ValueError: fill value must be in categories: 'age_bucket_col' is already in categorical type\n",
    "label_encoder = LabelEncoder()\n",
    "\n",
    "cat_feats = ['gender', 'signup_method', 'signup_flow', 'language', 'affiliate_channel', 'affiliate_provider', \n",
    "            'first_affiliate_tracked', 'signup_app', 'first_device_type', 'first_browser', \n",
    "             'year_account_created', 'month_account_created', 'dayinmonth_account_created', \n",
    "             'dayinweek_account_created', 'days_delay', 'Holiday', 'age_bucket_col']\n",
    "LE_vars=[]\n",
    "LE_map=dict()\n",
    "for cat_var in cat_feats:\n",
    "    print (\"Label Encoding %s\" % (cat_var))\n",
    "    LE_var=cat_var+'_le'\n",
    "    full_data[LE_var]=label_encoder.fit_transform(full_data[cat_var].fillna('NaN'))\n",
    "    LE_vars.append(LE_var)\n",
    "    LE_map[cat_var]=label_encoder.classes_\n",
    "    \n",
    "print (\"Label-encoded feaures: %s\" % (LE_vars))"
   ]
  },
  {
   "cell_type": "markdown",
   "metadata": {},
   "source": [
    "#### One-hot Encoding"
   ]
  },
  {
   "cell_type": "code",
   "execution_count": 64,
   "metadata": {},
   "outputs": [
    {
     "name": "stdout",
     "output_type": "stream",
     "text": [
      "OHE_sparse size : (275547, 373)\n",
      "One-hot encoded catgorical feature samples : ['gen_-unknown-', 'gen_FEMALE', 'gen_MALE', 'gen_OTHER', 'signup_met_basic', 'signup_met_facebook', 'signup_met_google', 'signup_met_weibo', 'signup_f_0', 'signup_f_1', 'signup_f_2', 'signup_f_3', 'signup_f_4', 'signup_f_5', 'signup_f_6', 'signup_f_8', 'signup_f_10', 'signup_f_12', 'signup_f_14', 'signup_f_15', 'signup_f_16', 'signup_f_20', 'signup_f_21', 'signup_f_23', 'signup_f_24', 'signup_f_25', 'langu_-unknown-', 'langu_ca', 'langu_cs', 'langu_da', 'langu_de', 'langu_el', 'langu_en', 'langu_es', 'langu_fi', 'langu_fr', 'langu_hr', 'langu_hu', 'langu_id', 'langu_is', 'langu_it', 'langu_ja', 'langu_ko', 'langu_nl', 'langu_no', 'langu_pl', 'langu_pt', 'langu_ru', 'langu_sv', 'langu_th', 'langu_tr', 'langu_zh', 'affiliate_chan_api', 'affiliate_chan_content', 'affiliate_chan_direct', 'affiliate_chan_other', 'affiliate_chan_remarketing', 'affiliate_chan_sem-brand', 'affiliate_chan_sem-non-brand', 'affiliate_chan_seo', 'affiliate_provi_baidu', 'affiliate_provi_bing', 'affiliate_provi_craigslist', 'affiliate_provi_daum', 'affiliate_provi_direct', 'affiliate_provi_email-marketing', 'affiliate_provi_facebook', 'affiliate_provi_facebook-open-graph', 'affiliate_provi_google', 'affiliate_provi_gsp', 'affiliate_provi_meetup', 'affiliate_provi_naver', 'affiliate_provi_other', 'affiliate_provi_padmapper', 'affiliate_provi_vast', 'affiliate_provi_wayn', 'affiliate_provi_yahoo', 'affiliate_provi_yandex', 'first_affiliate_trac_NaN', 'first_affiliate_trac_linked', 'first_affiliate_trac_local_ops', 'first_affiliate_trac_marketing', 'first_affiliate_trac_omg', 'first_affiliate_trac_product', 'first_affiliate_trac_tracked-other', 'first_affiliate_trac_untracked', 'signup__Android', 'signup__Moweb', 'signup__Web', 'signup__iOS', 'first_device_t_Android_Phone', 'first_device_t_Android_Tablet', 'first_device_t_Desktop_(Other)', 'first_device_t_Mac_Desktop', 'first_device_t_Other/Unknown', 'first_device_t_SmartPhone_(Other)', 'first_device_t_Windows_Desktop', 'first_device_t_iPad', 'first_device_t_iPhone', 'first_brow_-unknown-']\n",
      "CPU times: user 2.4 s, sys: 497 ms, total: 2.89 s\n",
      "Wall time: 2.96 s\n"
     ]
    }
   ],
   "source": [
    "%%time\n",
    "OHE = OneHotEncoder(sparse=True)\n",
    "OHE.fit(full_data[LE_vars])\n",
    "OHE_sparse=OHE.transform(full_data[LE_vars])\n",
    "OHE_vars = [var[:-3] + '_' + str(level).replace(' ','_')\\\n",
    "                for var in cat_feats for level in LE_map[var] ]\n",
    "\n",
    "print (\"OHE_sparse size :\" ,OHE_sparse.shape)\n",
    "print (\"One-hot encoded catgorical feature samples : %s\" % (OHE_vars[:100]))"
   ]
  },
  {
   "cell_type": "code",
   "execution_count": 65,
   "metadata": {},
   "outputs": [],
   "source": [
    "train_x = OHE_sparse[:num_rows_train]\n",
    "test_x = OHE_sparse[num_rows_train:]\n",
    "#train_y = target"
   ]
  },
  {
   "cell_type": "markdown",
   "metadata": {},
   "source": [
    "#### Label encode `country_destination`"
   ]
  },
  {
   "cell_type": "code",
   "execution_count": 66,
   "metadata": {
    "collapsed": true
   },
   "outputs": [],
   "source": [
    "target = label_encoder.fit_transform(train_users_data['country_destination'])\n",
    "country_code_map=dict(zip(label_encoder.classes_, label_encoder.transform(label_encoder.classes_)))"
   ]
  },
  {
   "cell_type": "code",
   "execution_count": 67,
   "metadata": {},
   "outputs": [
    {
     "data": {
      "text/plain": [
       "{'AU': 0,\n",
       " 'CA': 1,\n",
       " 'DE': 2,\n",
       " 'ES': 3,\n",
       " 'FR': 4,\n",
       " 'GB': 5,\n",
       " 'IT': 6,\n",
       " 'NDF': 7,\n",
       " 'NL': 8,\n",
       " 'PT': 9,\n",
       " 'US': 10,\n",
       " 'other': 11}"
      ]
     },
     "execution_count": 67,
     "metadata": {},
     "output_type": "execute_result"
    }
   ],
   "source": [
    "# map between country and its code\n",
    "country_code_map"
   ]
  },
  {
   "cell_type": "code",
   "execution_count": 68,
   "metadata": {
    "collapsed": true
   },
   "outputs": [],
   "source": [
    "xgb_params = {\n",
    "    'max_depth': 6,\n",
    "    'min_child_weight': 1,\n",
    "    'subsample': 0.5,\n",
    "    'colsample_bytree': 0.5,\n",
    "    'gamma': 0,\n",
    "    'objective': 'multi:softprob',\n",
    "    'eta': 0.3,\n",
    "    'seed': 1234,\n",
    "    'num_class': 12}\n",
    "\n",
    "model = xgb.train(xgb_params, \n",
    "                  xgb.DMatrix(train_x, label = target)\n",
    "                 )\n",
    "\n",
    "preds = model.predict(xgb.DMatrix(test_x))"
   ]
  },
  {
   "cell_type": "code",
   "execution_count": 71,
   "metadata": {
    "collapsed": true
   },
   "outputs": [],
   "source": [
    "ids = []  #list of ids\n",
    "cts = []  #list of countries\n",
    "for i in range(len(id_test)):\n",
    "    idx = id_test[i]\n",
    "    ids += [idx] * 5\n",
    "    cts += label_encoder.inverse_transform(np.argsort(preds[i])[::-1])[:5].tolist()"
   ]
  },
  {
   "cell_type": "code",
   "execution_count": 72,
   "metadata": {
    "collapsed": true
   },
   "outputs": [],
   "source": [
    "sub = pd.DataFrame(np.column_stack((ids, cts)), columns=['id', 'country'])\n",
    "sub.to_csv('sub.csv',index=False)"
   ]
  },
  {
   "cell_type": "code",
   "execution_count": 75,
   "metadata": {},
   "outputs": [
    {
     "data": {
      "text/plain": [
       "['days_de_30153600000000000_nanoseconds',\n",
       " 'days_de_30585600000000000_nanoseconds',\n",
       " 'days_de_30758400000000000_nanoseconds',\n",
       " 'days_de_30931200000000000_nanoseconds',\n",
       " 'days_de_31017600000000000_nanoseconds',\n",
       " 'days_de_31276800000000000_nanoseconds',\n",
       " 'days_de_31449600000000000_nanoseconds',\n",
       " 'days_de_31708800000000000_nanoseconds',\n",
       " 'days_de_31881600000000000_nanoseconds',\n",
       " 'days_de_34128000000000000_nanoseconds',\n",
       " 'days_de_34473600000000000_nanoseconds',\n",
       " 'days_de_34646400000000000_nanoseconds',\n",
       " 'days_de_37238400000000000_nanoseconds',\n",
       " 'days_de_37843200000000000_nanoseconds',\n",
       " 'days_de_38620800000000000_nanoseconds',\n",
       " 'days_de_38707200000000000_nanoseconds',\n",
       " 'days_de_38966400000000000_nanoseconds',\n",
       " 'days_de_40262400000000000_nanoseconds',\n",
       " 'days_de_41126400000000000_nanoseconds',\n",
       " 'days_de_43804800000000000_nanoseconds',\n",
       " 'days_de_44409600000000000_nanoseconds',\n",
       " 'days_de_44582400000000000_nanoseconds',\n",
       " 'days_de_48816000000000000_nanoseconds',\n",
       " 'days_de_50716800000000000_nanoseconds',\n",
       " 'days_de_51408000000000000_nanoseconds',\n",
       " 'days_de_53222400000000000_nanoseconds',\n",
       " 'days_de_53740800000000000_nanoseconds',\n",
       " 'days_de_54777600000000000_nanoseconds',\n",
       " 'days_de_54950400000000000_nanoseconds',\n",
       " 'days_de_56851200000000000_nanoseconds',\n",
       " 'days_de_56937600000000000_nanoseconds',\n",
       " 'days_de_57456000000000000_nanoseconds',\n",
       " 'days_de_61344000000000000_nanoseconds',\n",
       " 'days_de_62035200000000000_nanoseconds',\n",
       " 'days_de_62380800000000000_nanoseconds',\n",
       " 'days_de_63244800000000000_nanoseconds',\n",
       " 'days_de_65923200000000000_nanoseconds',\n",
       " 'days_de_66096000000000000_nanoseconds',\n",
       " 'days_de_66355200000000000_nanoseconds',\n",
       " 'days_de_66873600000000000_nanoseconds',\n",
       " 'days_de_72403200000000000_nanoseconds',\n",
       " 'days_de_73526400000000000_nanoseconds',\n",
       " 'days_de_76204800000000000_nanoseconds',\n",
       " 'days_de_85968000000000000_nanoseconds',\n",
       " 'days_de_86227200000000000_nanoseconds',\n",
       " 'days_de_87350400000000000_nanoseconds',\n",
       " 'days_de_87955200000000000_nanoseconds',\n",
       " 'days_de_89510400000000000_nanoseconds',\n",
       " 'days_de_99187200000000000_nanoseconds',\n",
       " 'days_de_117590400000000000_nanoseconds',\n",
       " 'days_de_118281600000000000_nanoseconds',\n",
       " 'days_de_125798400000000000_nanoseconds',\n",
       " 'Holi_False',\n",
       " 'Holi_True',\n",
       " 'age_bucket__10-14',\n",
       " 'age_bucket__15-19',\n",
       " 'age_bucket__20-24',\n",
       " 'age_bucket__25-29',\n",
       " 'age_bucket__30-34',\n",
       " 'age_bucket__35-39',\n",
       " 'age_bucket__40-44',\n",
       " 'age_bucket__45-49',\n",
       " 'age_bucket__50-54',\n",
       " 'age_bucket__55-59',\n",
       " 'age_bucket__60-64',\n",
       " 'age_bucket__65-69',\n",
       " 'age_bucket__70-74',\n",
       " 'age_bucket__75-79',\n",
       " 'age_bucket__80-84',\n",
       " 'age_bucket__85-89',\n",
       " 'age_bucket__90-94',\n",
       " 'age_bucket__95-99',\n",
       " 'age_bucket__nan']"
      ]
     },
     "execution_count": 75,
     "metadata": {},
     "output_type": "execute_result"
    }
   ],
   "source": [
    "OHE_vars[300:]"
   ]
  },
  {
   "cell_type": "code",
   "execution_count": null,
   "metadata": {
    "collapsed": true
   },
   "outputs": [],
   "source": []
  }
 ],
 "metadata": {
  "kernelspec": {
   "display_name": "Python 3",
   "language": "python",
   "name": "python3"
  },
  "language_info": {
   "codemirror_mode": {
    "name": "ipython",
    "version": 3
   },
   "file_extension": ".py",
   "mimetype": "text/x-python",
   "name": "python",
   "nbconvert_exporter": "python",
   "pygments_lexer": "ipython3",
   "version": "3.5.4"
  },
  "toc": {
   "nav_menu": {},
   "number_sections": true,
   "sideBar": true,
   "skip_h1_title": false,
   "toc_cell": false,
   "toc_position": {},
   "toc_section_display": "block",
   "toc_window_display": false
  }
 },
 "nbformat": 4,
 "nbformat_minor": 1
}
