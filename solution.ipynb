{
 "cells": [
  {
   "cell_type": "markdown",
   "metadata": {},
   "source": [
    "# History Kaggle: Airbnb New User Bookings"
   ]
  },
  {
   "cell_type": "markdown",
   "metadata": {},
   "source": [
    "## Download data\n",
    "Data for this project are downloaded from the following link:<br/>\n",
    "https://www.kaggle.com/c/airbnb-recruiting-new-user-bookings/data\n",
    "\n",
    "I learn from script posts:\n",
    "1. https://www.kaggle.com/kevinwu06/airbnb-exploratory-analysis\\\n",
    "2. https://www.kaggle.com/davidgasquez/user-data-exploration\n",
    "3. https://www.kaggle.com/svpons/feature-engineering\n",
    "4. https://www.kaggle.com/svpons/three-level-classification-architecture\n",
    "\n",
    "Format follow:\n",
    "https://github.com/udacity/machine-learning/blob/master/projects/capstone/capstone_report_template.md"
   ]
  },
  {
   "cell_type": "markdown",
   "metadata": {},
   "source": [
    "## Data Exploration\n",
    "\n",
    "We are given users information (train_users.csv, test_users.csv), records of users' web sessions (sessions.csv) as well as some other related information (age_gender_bkts.csv, countries.csv) as input datasets.\n",
    "\n",
    "In the cells below, I'll load each one of the dataset and discuss features, calculate statistics, and note any missing values or outliers."
   ]
  },
  {
   "cell_type": "code",
   "execution_count": 1,
   "metadata": {
    "collapsed": true
   },
   "outputs": [],
   "source": [
    "import numpy as np\n",
    "import pandas as pd\n",
    "import matplotlib.pyplot as plt\n",
    "%matplotlib inline\n",
    "plt.style.use('ggplot')\n",
    "import seaborn as sns\n",
    "import datetime\n",
    "\n",
    "# import warnings\n",
    "# warnings.filterwarnings('ignore')    # suppress warnings for clean demo\n",
    "\n",
    "pd.set_option('display.max_rows', None)    #don't hide any rows or columns when display\n",
    "pd.set_option('display.max_columns', None)\n",
    "\n",
    "from sklearn.preprocessing import LabelEncoder, StandardScaler, OneHotEncoder\n",
    "from scipy import sparse\n",
    "from sklearn.model_selection import train_test_split, GridSearchCV\n",
    "import xgboost as xgb"
   ]
  },
  {
   "cell_type": "markdown",
   "metadata": {},
   "source": [
    "### Load Datasets (5 files in total)\n",
    "\n",
    "#### Users dataset (2 files)"
   ]
  },
  {
   "cell_type": "code",
   "execution_count": 72,
   "metadata": {
    "collapsed": true
   },
   "outputs": [],
   "source": [
    "train_users_data = pd.read_csv(\"train_users_2.csv\")\n",
    "test_users_data = pd.read_csv(\"test_users.csv\")"
   ]
  },
  {
   "cell_type": "code",
   "execution_count": 3,
   "metadata": {},
   "outputs": [
    {
     "name": "stdout",
     "output_type": "stream",
     "text": [
      "There are 213,451 rows and 16 columns in the train_users data.\n",
      "There are 62,096 rows and 15 columns in the test_users data.\n"
     ]
    }
   ],
   "source": [
    "num_rows_train, num_cols_train = train_users_data.shape\n",
    "print(\"There are {:,} rows and {:,} columns in the train_users data.\".format(num_rows_train, num_cols_train))\n",
    "num_rows_test, num_cols_test = test_users_data.shape\n",
    "print(\"There are {:,} rows and {:,} columns in the test_users data.\".format(num_rows_test, num_cols_test))"
   ]
  },
  {
   "cell_type": "markdown",
   "metadata": {},
   "source": [
    "*Findings:*\n",
    "- *Most of the columns are categorical variable.* \n",
    "- *We will transform `date_account_created` and `timestamp_first_active` into date-time format.*\n",
    "- *`Age` has a lot of missing values.*"
   ]
  },
  {
   "cell_type": "markdown",
   "metadata": {},
   "source": [
    "#### User Web Sessions Record (1 file)\n",
    "\n",
    "Sessions file contains, for each user_id, the action, action type, action detail, device type and the time elapsed from the previous action. The sessions data goes back to Jan 1, 2014 which is only a small recent portion of the users data that dates back to 2010. "
   ]
  },
  {
   "cell_type": "code",
   "execution_count": 6,
   "metadata": {
    "collapsed": true
   },
   "outputs": [],
   "source": [
    "sessions_data = pd.read_csv(\"sessions.csv\")"
   ]
  },
  {
   "cell_type": "code",
   "execution_count": 7,
   "metadata": {},
   "outputs": [
    {
     "name": "stdout",
     "output_type": "stream",
     "text": [
      "There are 10,567,737 rows and 6 columns in the sessions data\n"
     ]
    }
   ],
   "source": [
    "num_rows_sessions, num_cols_sessions = sessions_data.shape\n",
    "print(\"There are {:,} rows and {:,} columns in the sessions data\".format(num_rows_sessions, num_cols_sessions))"
   ]
  },
  {
   "cell_type": "code",
   "execution_count": 8,
   "metadata": {
    "collapsed": true
   },
   "outputs": [],
   "source": [
    "sessions_data = sessions_data[sessions_data.user_id.notnull()]"
   ]
  },
  {
   "cell_type": "code",
   "execution_count": 9,
   "metadata": {
    "collapsed": true
   },
   "outputs": [],
   "source": [
    "sessions_total_secs = sessions_data.loc[:,['user_id', 'secs_elapsed']].groupby('user_id').sum()"
   ]
  },
  {
   "cell_type": "code",
   "execution_count": 10,
   "metadata": {
    "collapsed": true
   },
   "outputs": [],
   "source": [
    "sessions_action_counts = sessions_data.loc[:,['user_id', 'action']].groupby('user_id').count()"
   ]
  },
  {
   "cell_type": "code",
   "execution_count": 11,
   "metadata": {},
   "outputs": [
    {
     "name": "stdout",
     "output_type": "stream",
     "text": [
      "['gender', 'signup_method', 'signup_flow', 'language', 'affiliate_channel', 'affiliate_provider', 'first_affiliate_tracked', 'signup_app', 'first_device_type', 'first_browser']\n"
     ]
    }
   ],
   "source": [
    "cat_features = train_users_data.columns.tolist()\n",
    "cat_features = [i for i in cat_features if i not in ('country_destination', 'id', 'age', 'date_account_created', 'timestamp_first_active', 'date_first_booking')]\n",
    "print(cat_features)"
   ]
  },
  {
   "cell_type": "markdown",
   "metadata": {},
   "source": [
    "#### Datetime features & `country_destination`"
   ]
  },
  {
   "cell_type": "code",
   "execution_count": 12,
   "metadata": {
    "collapsed": true
   },
   "outputs": [],
   "source": [
    "train_users_data.loc[:,'date_account_created'] = pd.to_datetime(train_users_data.date_account_created)\n",
    "test_users_data.loc[:,'date_account_created'] = pd.to_datetime(test_users_data.date_account_created)"
   ]
  },
  {
   "cell_type": "code",
   "execution_count": 13,
   "metadata": {
    "collapsed": true
   },
   "outputs": [],
   "source": [
    "train_users_data.loc[:,'date_account_created'] = train_users_data.date_account_created.apply(lambda x: pd.to_datetime(x.strftime('%x')))\n",
    "test_users_data.loc[:,'date_account_created'] = test_users_data.date_account_created.apply(lambda x: pd.to_datetime(x.strftime('%x')))"
   ]
  },
  {
   "cell_type": "code",
   "execution_count": 14,
   "metadata": {
    "collapsed": true
   },
   "outputs": [],
   "source": [
    "train_users_data.loc[:,'timestamp_first_active'] = pd.to_datetime(train_users_data.timestamp_first_active.apply(str))\n",
    "test_users_data.loc[:,'timestamp_first_active'] = pd.to_datetime(test_users_data.timestamp_first_active.apply(str))"
   ]
  },
  {
   "cell_type": "markdown",
   "metadata": {},
   "source": [
    "### Data Preprocessing"
   ]
  },
  {
   "cell_type": "markdown",
   "metadata": {},
   "source": [
    "#### Combine train & test data to preprocess together"
   ]
  },
  {
   "cell_type": "code",
   "execution_count": 17,
   "metadata": {
    "collapsed": true
   },
   "outputs": [],
   "source": [
    "id_test = test_users_data['id']\n",
    "train_users_data.drop(['date_first_booking'], axis = 1, inplace = True)\n",
    "test_users_data.drop(['date_first_booking'], axis = 1, inplace = True)"
   ]
  },
  {
   "cell_type": "code",
   "execution_count": 18,
   "metadata": {
    "collapsed": true
   },
   "outputs": [],
   "source": [
    "full_data = pd.concat([train_users_data, test_users_data], axis = 0, ignore_index = True)"
   ]
  },
  {
   "cell_type": "code",
   "execution_count": 19,
   "metadata": {},
   "outputs": [
    {
     "data": {
      "text/plain": [
       "(275547, 14)"
      ]
     },
     "execution_count": 19,
     "metadata": {},
     "output_type": "execute_result"
    }
   ],
   "source": [
    "full_data.shape"
   ]
  },
  {
   "cell_type": "markdown",
   "metadata": {},
   "source": [
    "#### Convert the continuous `Age` into categories"
   ]
  },
  {
   "cell_type": "code",
   "execution_count": 20,
   "metadata": {
    "collapsed": true
   },
   "outputs": [],
   "source": [
    "# set age outside of valid age range (10, 100] to nan\n",
    "valid_age_index = full_data.age.apply(lambda x: 10 < x <= 100)\n",
    "full_data.loc[~valid_age_index, 'age'] = np.nan"
   ]
  },
  {
   "cell_type": "code",
   "execution_count": 22,
   "metadata": {},
   "outputs": [],
   "source": [
    "# pd.cut has the convention that 30 belongs to 25-29, but 25 doesn't  \n",
    "age_gender_bkts_data = pd.read_csv(\"age_gender_bkts.csv\")\n",
    "age_bins = np.arange(10., 105., 5.).tolist()\n",
    "age_names = list(reversed(age_gender_bkts_data.age_bucket.unique()))[2:-1]\n",
    "full_data['age_bucket_col'] = pd.cut(full_data.age, age_bins, labels = age_names)"
   ]
  },
  {
   "cell_type": "markdown",
   "metadata": {},
   "source": [
    "#### Add features engineered using `sessions` data"
   ]
  },
  {
   "cell_type": "code",
   "execution_count": 23,
   "metadata": {
    "collapsed": true
   },
   "outputs": [],
   "source": [
    "sessions_total_secs['id'] = sessions_total_secs.index\n",
    "sessions_action_counts['id'] = sessions_action_counts.index"
   ]
  },
  {
   "cell_type": "code",
   "execution_count": 24,
   "metadata": {
    "collapsed": true
   },
   "outputs": [],
   "source": [
    "full_data = pd.merge(full_data, sessions_total_secs, how = 'left', on = 'id')\n",
    "full_data = pd.merge(full_data, sessions_action_counts, how = 'left', on = 'id')"
   ]
  },
  {
   "cell_type": "markdown",
   "metadata": {},
   "source": [
    "#### Add features from datetime feature"
   ]
  },
  {
   "cell_type": "code",
   "execution_count": 25,
   "metadata": {},
   "outputs": [
    {
     "data": {
      "text/plain": [
       "Index(['id', 'date_account_created', 'timestamp_first_active', 'gender', 'age',\n",
       "       'signup_method', 'signup_flow', 'language', 'affiliate_channel',\n",
       "       'affiliate_provider', 'first_affiliate_tracked', 'signup_app',\n",
       "       'first_device_type', 'first_browser', 'age_bucket_col', 'secs_elapsed',\n",
       "       'action'],\n",
       "      dtype='object')"
      ]
     },
     "execution_count": 25,
     "metadata": {},
     "output_type": "execute_result"
    }
   ],
   "source": [
    "full_data.columns"
   ]
  },
  {
   "cell_type": "code",
   "execution_count": 26,
   "metadata": {
    "collapsed": true
   },
   "outputs": [],
   "source": [
    "# full_data.loc[:,'date_account_created'] = pd.to_datetime(full_data.date_account_created)\n",
    "# full_data.loc[:,'date_account_created'] = full_data.date_account_created.apply(lambda x: pd.to_datetime(x.strftime('%x')))\n",
    "# full_data.loc[:,'timestamp_first_active'] = pd.to_datetime(full_data.timestamp_first_active.apply(str))\n",
    "\n",
    "full_data['year_account_created'] = full_data.date_account_created.apply(lambda x: x.year)\n",
    "full_data['month_account_created'] = full_data.date_account_created.apply(lambda x: x.month)\n",
    "full_data['dayinmonth_account_created'] = full_data.date_account_created.apply(lambda x: x.day)\n",
    "# Monday is 1 and Sunday is 7\n",
    "full_data['dayinweek_account_created'] = full_data.date_account_created.apply(lambda x: x.isoweekday())"
   ]
  },
  {
   "cell_type": "code",
   "execution_count": 27,
   "metadata": {
    "collapsed": true
   },
   "outputs": [],
   "source": [
    "full_data['days_delay'] = full_data.date_account_created - full_data.timestamp_first_active.apply(lambda x: pd.to_datetime(x.strftime('%x')))"
   ]
  },
  {
   "cell_type": "code",
   "execution_count": 28,
   "metadata": {
    "collapsed": true
   },
   "outputs": [],
   "source": [
    "from pandas.tseries.holiday import USFederalHolidayCalendar as calendar\n",
    "\n",
    "cal = calendar()\n",
    "holidays = cal.holidays(start = full_data.date_account_created.min(), \n",
    "                        end = full_data.date_account_created.max())\n",
    "\n",
    "full_data['Holiday'] = full_data.date_account_created.isin(holidays)"
   ]
  },
  {
   "cell_type": "code",
   "execution_count": 29,
   "metadata": {},
   "outputs": [
    {
     "data": {
      "text/html": [
       "<div>\n",
       "<style>\n",
       "    .dataframe thead tr:only-child th {\n",
       "        text-align: right;\n",
       "    }\n",
       "\n",
       "    .dataframe thead th {\n",
       "        text-align: left;\n",
       "    }\n",
       "\n",
       "    .dataframe tbody tr th {\n",
       "        vertical-align: top;\n",
       "    }\n",
       "</style>\n",
       "<table border=\"1\" class=\"dataframe\">\n",
       "  <thead>\n",
       "    <tr style=\"text-align: right;\">\n",
       "      <th></th>\n",
       "      <th>Holiday</th>\n",
       "      <th>date_account_created</th>\n",
       "      <th>timestamp_first_active</th>\n",
       "      <th>days_delay</th>\n",
       "      <th>year_account_created</th>\n",
       "      <th>month_account_created</th>\n",
       "      <th>dayinmonth_account_created</th>\n",
       "      <th>dayinweek_account_created</th>\n",
       "    </tr>\n",
       "  </thead>\n",
       "  <tbody>\n",
       "    <tr>\n",
       "      <th>0</th>\n",
       "      <td>False</td>\n",
       "      <td>2010-06-28</td>\n",
       "      <td>2009-03-19 04:32:55</td>\n",
       "      <td>466 days</td>\n",
       "      <td>2010</td>\n",
       "      <td>6</td>\n",
       "      <td>28</td>\n",
       "      <td>1</td>\n",
       "    </tr>\n",
       "    <tr>\n",
       "      <th>1</th>\n",
       "      <td>False</td>\n",
       "      <td>2011-05-25</td>\n",
       "      <td>2009-05-23 17:48:09</td>\n",
       "      <td>732 days</td>\n",
       "      <td>2011</td>\n",
       "      <td>5</td>\n",
       "      <td>25</td>\n",
       "      <td>3</td>\n",
       "    </tr>\n",
       "    <tr>\n",
       "      <th>2</th>\n",
       "      <td>False</td>\n",
       "      <td>2010-09-28</td>\n",
       "      <td>2009-06-09 23:12:47</td>\n",
       "      <td>476 days</td>\n",
       "      <td>2010</td>\n",
       "      <td>9</td>\n",
       "      <td>28</td>\n",
       "      <td>2</td>\n",
       "    </tr>\n",
       "    <tr>\n",
       "      <th>3</th>\n",
       "      <td>False</td>\n",
       "      <td>2011-12-05</td>\n",
       "      <td>2009-10-31 06:01:29</td>\n",
       "      <td>765 days</td>\n",
       "      <td>2011</td>\n",
       "      <td>12</td>\n",
       "      <td>5</td>\n",
       "      <td>1</td>\n",
       "    </tr>\n",
       "    <tr>\n",
       "      <th>4</th>\n",
       "      <td>False</td>\n",
       "      <td>2010-09-14</td>\n",
       "      <td>2009-12-08 06:11:05</td>\n",
       "      <td>280 days</td>\n",
       "      <td>2010</td>\n",
       "      <td>9</td>\n",
       "      <td>14</td>\n",
       "      <td>2</td>\n",
       "    </tr>\n",
       "    <tr>\n",
       "      <th>5</th>\n",
       "      <td>True</td>\n",
       "      <td>2010-01-01</td>\n",
       "      <td>2010-01-01 21:56:19</td>\n",
       "      <td>0 days</td>\n",
       "      <td>2010</td>\n",
       "      <td>1</td>\n",
       "      <td>1</td>\n",
       "      <td>5</td>\n",
       "    </tr>\n",
       "    <tr>\n",
       "      <th>6</th>\n",
       "      <td>False</td>\n",
       "      <td>2010-01-02</td>\n",
       "      <td>2010-01-02 01:25:58</td>\n",
       "      <td>0 days</td>\n",
       "      <td>2010</td>\n",
       "      <td>1</td>\n",
       "      <td>2</td>\n",
       "      <td>6</td>\n",
       "    </tr>\n",
       "    <tr>\n",
       "      <th>7</th>\n",
       "      <td>False</td>\n",
       "      <td>2010-01-03</td>\n",
       "      <td>2010-01-03 19:19:05</td>\n",
       "      <td>0 days</td>\n",
       "      <td>2010</td>\n",
       "      <td>1</td>\n",
       "      <td>3</td>\n",
       "      <td>7</td>\n",
       "    </tr>\n",
       "    <tr>\n",
       "      <th>8</th>\n",
       "      <td>False</td>\n",
       "      <td>2010-01-04</td>\n",
       "      <td>2010-01-04 00:42:11</td>\n",
       "      <td>0 days</td>\n",
       "      <td>2010</td>\n",
       "      <td>1</td>\n",
       "      <td>4</td>\n",
       "      <td>1</td>\n",
       "    </tr>\n",
       "    <tr>\n",
       "      <th>9</th>\n",
       "      <td>False</td>\n",
       "      <td>2010-01-04</td>\n",
       "      <td>2010-01-04 02:37:58</td>\n",
       "      <td>0 days</td>\n",
       "      <td>2010</td>\n",
       "      <td>1</td>\n",
       "      <td>4</td>\n",
       "      <td>1</td>\n",
       "    </tr>\n",
       "  </tbody>\n",
       "</table>\n",
       "</div>"
      ],
      "text/plain": [
       "   Holiday date_account_created timestamp_first_active days_delay  \\\n",
       "0    False           2010-06-28    2009-03-19 04:32:55   466 days   \n",
       "1    False           2011-05-25    2009-05-23 17:48:09   732 days   \n",
       "2    False           2010-09-28    2009-06-09 23:12:47   476 days   \n",
       "3    False           2011-12-05    2009-10-31 06:01:29   765 days   \n",
       "4    False           2010-09-14    2009-12-08 06:11:05   280 days   \n",
       "5     True           2010-01-01    2010-01-01 21:56:19     0 days   \n",
       "6    False           2010-01-02    2010-01-02 01:25:58     0 days   \n",
       "7    False           2010-01-03    2010-01-03 19:19:05     0 days   \n",
       "8    False           2010-01-04    2010-01-04 00:42:11     0 days   \n",
       "9    False           2010-01-04    2010-01-04 02:37:58     0 days   \n",
       "\n",
       "   year_account_created  month_account_created  dayinmonth_account_created  \\\n",
       "0                  2010                      6                          28   \n",
       "1                  2011                      5                          25   \n",
       "2                  2010                      9                          28   \n",
       "3                  2011                     12                           5   \n",
       "4                  2010                      9                          14   \n",
       "5                  2010                      1                           1   \n",
       "6                  2010                      1                           2   \n",
       "7                  2010                      1                           3   \n",
       "8                  2010                      1                           4   \n",
       "9                  2010                      1                           4   \n",
       "\n",
       "   dayinweek_account_created  \n",
       "0                          1  \n",
       "1                          3  \n",
       "2                          2  \n",
       "3                          1  \n",
       "4                          2  \n",
       "5                          5  \n",
       "6                          6  \n",
       "7                          7  \n",
       "8                          1  \n",
       "9                          1  "
      ]
     },
     "execution_count": 29,
     "metadata": {},
     "output_type": "execute_result"
    }
   ],
   "source": [
    "full_data.loc[:,['Holiday', 'date_account_created', 'timestamp_first_active', 'days_delay', 'year_account_created', 'month_account_created', 'dayinmonth_account_created', 'dayinweek_account_created']].head(10)"
   ]
  },
  {
   "cell_type": "code",
   "execution_count": 39,
   "metadata": {},
   "outputs": [
    {
     "data": {
      "text/html": [
       "<div>\n",
       "<style>\n",
       "    .dataframe thead tr:only-child th {\n",
       "        text-align: right;\n",
       "    }\n",
       "\n",
       "    .dataframe thead th {\n",
       "        text-align: left;\n",
       "    }\n",
       "\n",
       "    .dataframe tbody tr th {\n",
       "        vertical-align: top;\n",
       "    }\n",
       "</style>\n",
       "<table border=\"1\" class=\"dataframe\">\n",
       "  <thead>\n",
       "    <tr style=\"text-align: right;\">\n",
       "      <th></th>\n",
       "      <th>id</th>\n",
       "      <th>date_account_created</th>\n",
       "      <th>timestamp_first_active</th>\n",
       "      <th>gender</th>\n",
       "      <th>age</th>\n",
       "      <th>signup_method</th>\n",
       "      <th>signup_flow</th>\n",
       "      <th>language</th>\n",
       "      <th>affiliate_channel</th>\n",
       "      <th>affiliate_provider</th>\n",
       "      <th>first_affiliate_tracked</th>\n",
       "      <th>signup_app</th>\n",
       "      <th>first_device_type</th>\n",
       "      <th>first_browser</th>\n",
       "      <th>age_bucket_col</th>\n",
       "      <th>secs_elapsed</th>\n",
       "      <th>action</th>\n",
       "      <th>year_account_created</th>\n",
       "      <th>month_account_created</th>\n",
       "      <th>dayinmonth_account_created</th>\n",
       "      <th>dayinweek_account_created</th>\n",
       "      <th>days_delay</th>\n",
       "      <th>Holiday</th>\n",
       "      <th>gender_le</th>\n",
       "      <th>signup_method_le</th>\n",
       "      <th>signup_flow_le</th>\n",
       "      <th>language_le</th>\n",
       "      <th>affiliate_channel_le</th>\n",
       "      <th>affiliate_provider_le</th>\n",
       "      <th>signup_app_le</th>\n",
       "      <th>first_device_type_le</th>\n",
       "      <th>first_browser_le</th>\n",
       "      <th>first_affiliate_tracked_le</th>\n",
       "    </tr>\n",
       "  </thead>\n",
       "  <tbody>\n",
       "    <tr>\n",
       "      <th>0</th>\n",
       "      <td>gxn3p5htnn</td>\n",
       "      <td>2010-06-28</td>\n",
       "      <td>2009-03-19 04:32:55</td>\n",
       "      <td>-unknown-</td>\n",
       "      <td>NaN</td>\n",
       "      <td>facebook</td>\n",
       "      <td>0</td>\n",
       "      <td>en</td>\n",
       "      <td>direct</td>\n",
       "      <td>direct</td>\n",
       "      <td>untracked</td>\n",
       "      <td>Web</td>\n",
       "      <td>Mac Desktop</td>\n",
       "      <td>Chrome</td>\n",
       "      <td>NaN</td>\n",
       "      <td>NaN</td>\n",
       "      <td>NaN</td>\n",
       "      <td>2010</td>\n",
       "      <td>6</td>\n",
       "      <td>28</td>\n",
       "      <td>1</td>\n",
       "      <td>466 days</td>\n",
       "      <td>False</td>\n",
       "      <td>0</td>\n",
       "      <td>1</td>\n",
       "      <td>0</td>\n",
       "      <td>6</td>\n",
       "      <td>2</td>\n",
       "      <td>4</td>\n",
       "      <td>2</td>\n",
       "      <td>3</td>\n",
       "      <td>8</td>\n",
       "      <td>7</td>\n",
       "    </tr>\n",
       "    <tr>\n",
       "      <th>1</th>\n",
       "      <td>820tgsjxq7</td>\n",
       "      <td>2011-05-25</td>\n",
       "      <td>2009-05-23 17:48:09</td>\n",
       "      <td>MALE</td>\n",
       "      <td>38.0</td>\n",
       "      <td>facebook</td>\n",
       "      <td>0</td>\n",
       "      <td>en</td>\n",
       "      <td>seo</td>\n",
       "      <td>google</td>\n",
       "      <td>untracked</td>\n",
       "      <td>Web</td>\n",
       "      <td>Mac Desktop</td>\n",
       "      <td>Chrome</td>\n",
       "      <td>35-39</td>\n",
       "      <td>NaN</td>\n",
       "      <td>NaN</td>\n",
       "      <td>2011</td>\n",
       "      <td>5</td>\n",
       "      <td>25</td>\n",
       "      <td>3</td>\n",
       "      <td>732 days</td>\n",
       "      <td>False</td>\n",
       "      <td>2</td>\n",
       "      <td>1</td>\n",
       "      <td>0</td>\n",
       "      <td>6</td>\n",
       "      <td>7</td>\n",
       "      <td>8</td>\n",
       "      <td>2</td>\n",
       "      <td>3</td>\n",
       "      <td>8</td>\n",
       "      <td>7</td>\n",
       "    </tr>\n",
       "    <tr>\n",
       "      <th>2</th>\n",
       "      <td>4ft3gnwmtx</td>\n",
       "      <td>2010-09-28</td>\n",
       "      <td>2009-06-09 23:12:47</td>\n",
       "      <td>FEMALE</td>\n",
       "      <td>56.0</td>\n",
       "      <td>basic</td>\n",
       "      <td>3</td>\n",
       "      <td>en</td>\n",
       "      <td>direct</td>\n",
       "      <td>direct</td>\n",
       "      <td>untracked</td>\n",
       "      <td>Web</td>\n",
       "      <td>Windows Desktop</td>\n",
       "      <td>IE</td>\n",
       "      <td>55-59</td>\n",
       "      <td>NaN</td>\n",
       "      <td>NaN</td>\n",
       "      <td>2010</td>\n",
       "      <td>9</td>\n",
       "      <td>28</td>\n",
       "      <td>2</td>\n",
       "      <td>476 days</td>\n",
       "      <td>False</td>\n",
       "      <td>1</td>\n",
       "      <td>0</td>\n",
       "      <td>3</td>\n",
       "      <td>6</td>\n",
       "      <td>2</td>\n",
       "      <td>4</td>\n",
       "      <td>2</td>\n",
       "      <td>6</td>\n",
       "      <td>22</td>\n",
       "      <td>7</td>\n",
       "    </tr>\n",
       "    <tr>\n",
       "      <th>3</th>\n",
       "      <td>bjjt8pjhuk</td>\n",
       "      <td>2011-12-05</td>\n",
       "      <td>2009-10-31 06:01:29</td>\n",
       "      <td>FEMALE</td>\n",
       "      <td>42.0</td>\n",
       "      <td>facebook</td>\n",
       "      <td>0</td>\n",
       "      <td>en</td>\n",
       "      <td>direct</td>\n",
       "      <td>direct</td>\n",
       "      <td>untracked</td>\n",
       "      <td>Web</td>\n",
       "      <td>Mac Desktop</td>\n",
       "      <td>Firefox</td>\n",
       "      <td>40-44</td>\n",
       "      <td>NaN</td>\n",
       "      <td>NaN</td>\n",
       "      <td>2011</td>\n",
       "      <td>12</td>\n",
       "      <td>5</td>\n",
       "      <td>1</td>\n",
       "      <td>765 days</td>\n",
       "      <td>False</td>\n",
       "      <td>1</td>\n",
       "      <td>1</td>\n",
       "      <td>0</td>\n",
       "      <td>6</td>\n",
       "      <td>2</td>\n",
       "      <td>4</td>\n",
       "      <td>2</td>\n",
       "      <td>3</td>\n",
       "      <td>17</td>\n",
       "      <td>7</td>\n",
       "    </tr>\n",
       "    <tr>\n",
       "      <th>4</th>\n",
       "      <td>87mebub9p4</td>\n",
       "      <td>2010-09-14</td>\n",
       "      <td>2009-12-08 06:11:05</td>\n",
       "      <td>-unknown-</td>\n",
       "      <td>41.0</td>\n",
       "      <td>basic</td>\n",
       "      <td>0</td>\n",
       "      <td>en</td>\n",
       "      <td>direct</td>\n",
       "      <td>direct</td>\n",
       "      <td>untracked</td>\n",
       "      <td>Web</td>\n",
       "      <td>Mac Desktop</td>\n",
       "      <td>Chrome</td>\n",
       "      <td>40-44</td>\n",
       "      <td>NaN</td>\n",
       "      <td>NaN</td>\n",
       "      <td>2010</td>\n",
       "      <td>9</td>\n",
       "      <td>14</td>\n",
       "      <td>2</td>\n",
       "      <td>280 days</td>\n",
       "      <td>False</td>\n",
       "      <td>0</td>\n",
       "      <td>0</td>\n",
       "      <td>0</td>\n",
       "      <td>6</td>\n",
       "      <td>2</td>\n",
       "      <td>4</td>\n",
       "      <td>2</td>\n",
       "      <td>3</td>\n",
       "      <td>8</td>\n",
       "      <td>7</td>\n",
       "    </tr>\n",
       "    <tr>\n",
       "      <th>5</th>\n",
       "      <td>osr2jwljor</td>\n",
       "      <td>2010-01-01</td>\n",
       "      <td>2010-01-01 21:56:19</td>\n",
       "      <td>-unknown-</td>\n",
       "      <td>NaN</td>\n",
       "      <td>basic</td>\n",
       "      <td>0</td>\n",
       "      <td>en</td>\n",
       "      <td>other</td>\n",
       "      <td>other</td>\n",
       "      <td>omg</td>\n",
       "      <td>Web</td>\n",
       "      <td>Mac Desktop</td>\n",
       "      <td>Chrome</td>\n",
       "      <td>NaN</td>\n",
       "      <td>NaN</td>\n",
       "      <td>NaN</td>\n",
       "      <td>2010</td>\n",
       "      <td>1</td>\n",
       "      <td>1</td>\n",
       "      <td>5</td>\n",
       "      <td>0 days</td>\n",
       "      <td>True</td>\n",
       "      <td>0</td>\n",
       "      <td>0</td>\n",
       "      <td>0</td>\n",
       "      <td>6</td>\n",
       "      <td>3</td>\n",
       "      <td>12</td>\n",
       "      <td>2</td>\n",
       "      <td>3</td>\n",
       "      <td>8</td>\n",
       "      <td>4</td>\n",
       "    </tr>\n",
       "    <tr>\n",
       "      <th>6</th>\n",
       "      <td>lsw9q7uk0j</td>\n",
       "      <td>2010-01-02</td>\n",
       "      <td>2010-01-02 01:25:58</td>\n",
       "      <td>FEMALE</td>\n",
       "      <td>46.0</td>\n",
       "      <td>basic</td>\n",
       "      <td>0</td>\n",
       "      <td>en</td>\n",
       "      <td>other</td>\n",
       "      <td>craigslist</td>\n",
       "      <td>untracked</td>\n",
       "      <td>Web</td>\n",
       "      <td>Mac Desktop</td>\n",
       "      <td>Safari</td>\n",
       "      <td>45-49</td>\n",
       "      <td>NaN</td>\n",
       "      <td>NaN</td>\n",
       "      <td>2010</td>\n",
       "      <td>1</td>\n",
       "      <td>2</td>\n",
       "      <td>6</td>\n",
       "      <td>0 days</td>\n",
       "      <td>False</td>\n",
       "      <td>1</td>\n",
       "      <td>0</td>\n",
       "      <td>0</td>\n",
       "      <td>6</td>\n",
       "      <td>3</td>\n",
       "      <td>2</td>\n",
       "      <td>2</td>\n",
       "      <td>3</td>\n",
       "      <td>43</td>\n",
       "      <td>7</td>\n",
       "    </tr>\n",
       "    <tr>\n",
       "      <th>7</th>\n",
       "      <td>0d01nltbrs</td>\n",
       "      <td>2010-01-03</td>\n",
       "      <td>2010-01-03 19:19:05</td>\n",
       "      <td>FEMALE</td>\n",
       "      <td>47.0</td>\n",
       "      <td>basic</td>\n",
       "      <td>0</td>\n",
       "      <td>en</td>\n",
       "      <td>direct</td>\n",
       "      <td>direct</td>\n",
       "      <td>omg</td>\n",
       "      <td>Web</td>\n",
       "      <td>Mac Desktop</td>\n",
       "      <td>Safari</td>\n",
       "      <td>45-49</td>\n",
       "      <td>NaN</td>\n",
       "      <td>NaN</td>\n",
       "      <td>2010</td>\n",
       "      <td>1</td>\n",
       "      <td>3</td>\n",
       "      <td>7</td>\n",
       "      <td>0 days</td>\n",
       "      <td>False</td>\n",
       "      <td>1</td>\n",
       "      <td>0</td>\n",
       "      <td>0</td>\n",
       "      <td>6</td>\n",
       "      <td>2</td>\n",
       "      <td>4</td>\n",
       "      <td>2</td>\n",
       "      <td>3</td>\n",
       "      <td>43</td>\n",
       "      <td>4</td>\n",
       "    </tr>\n",
       "    <tr>\n",
       "      <th>8</th>\n",
       "      <td>a1vcnhxeij</td>\n",
       "      <td>2010-01-04</td>\n",
       "      <td>2010-01-04 00:42:11</td>\n",
       "      <td>FEMALE</td>\n",
       "      <td>50.0</td>\n",
       "      <td>basic</td>\n",
       "      <td>0</td>\n",
       "      <td>en</td>\n",
       "      <td>other</td>\n",
       "      <td>craigslist</td>\n",
       "      <td>untracked</td>\n",
       "      <td>Web</td>\n",
       "      <td>Mac Desktop</td>\n",
       "      <td>Safari</td>\n",
       "      <td>45-49</td>\n",
       "      <td>NaN</td>\n",
       "      <td>NaN</td>\n",
       "      <td>2010</td>\n",
       "      <td>1</td>\n",
       "      <td>4</td>\n",
       "      <td>1</td>\n",
       "      <td>0 days</td>\n",
       "      <td>False</td>\n",
       "      <td>1</td>\n",
       "      <td>0</td>\n",
       "      <td>0</td>\n",
       "      <td>6</td>\n",
       "      <td>3</td>\n",
       "      <td>2</td>\n",
       "      <td>2</td>\n",
       "      <td>3</td>\n",
       "      <td>43</td>\n",
       "      <td>7</td>\n",
       "    </tr>\n",
       "    <tr>\n",
       "      <th>9</th>\n",
       "      <td>6uh8zyj2gn</td>\n",
       "      <td>2010-01-04</td>\n",
       "      <td>2010-01-04 02:37:58</td>\n",
       "      <td>-unknown-</td>\n",
       "      <td>46.0</td>\n",
       "      <td>basic</td>\n",
       "      <td>0</td>\n",
       "      <td>en</td>\n",
       "      <td>other</td>\n",
       "      <td>craigslist</td>\n",
       "      <td>omg</td>\n",
       "      <td>Web</td>\n",
       "      <td>Mac Desktop</td>\n",
       "      <td>Firefox</td>\n",
       "      <td>45-49</td>\n",
       "      <td>NaN</td>\n",
       "      <td>NaN</td>\n",
       "      <td>2010</td>\n",
       "      <td>1</td>\n",
       "      <td>4</td>\n",
       "      <td>1</td>\n",
       "      <td>0 days</td>\n",
       "      <td>False</td>\n",
       "      <td>0</td>\n",
       "      <td>0</td>\n",
       "      <td>0</td>\n",
       "      <td>6</td>\n",
       "      <td>3</td>\n",
       "      <td>2</td>\n",
       "      <td>2</td>\n",
       "      <td>3</td>\n",
       "      <td>17</td>\n",
       "      <td>4</td>\n",
       "    </tr>\n",
       "  </tbody>\n",
       "</table>\n",
       "</div>"
      ],
      "text/plain": [
       "           id date_account_created timestamp_first_active     gender   age  \\\n",
       "0  gxn3p5htnn           2010-06-28    2009-03-19 04:32:55  -unknown-   NaN   \n",
       "1  820tgsjxq7           2011-05-25    2009-05-23 17:48:09       MALE  38.0   \n",
       "2  4ft3gnwmtx           2010-09-28    2009-06-09 23:12:47     FEMALE  56.0   \n",
       "3  bjjt8pjhuk           2011-12-05    2009-10-31 06:01:29     FEMALE  42.0   \n",
       "4  87mebub9p4           2010-09-14    2009-12-08 06:11:05  -unknown-  41.0   \n",
       "5  osr2jwljor           2010-01-01    2010-01-01 21:56:19  -unknown-   NaN   \n",
       "6  lsw9q7uk0j           2010-01-02    2010-01-02 01:25:58     FEMALE  46.0   \n",
       "7  0d01nltbrs           2010-01-03    2010-01-03 19:19:05     FEMALE  47.0   \n",
       "8  a1vcnhxeij           2010-01-04    2010-01-04 00:42:11     FEMALE  50.0   \n",
       "9  6uh8zyj2gn           2010-01-04    2010-01-04 02:37:58  -unknown-  46.0   \n",
       "\n",
       "  signup_method  signup_flow language affiliate_channel affiliate_provider  \\\n",
       "0      facebook            0       en            direct             direct   \n",
       "1      facebook            0       en               seo             google   \n",
       "2         basic            3       en            direct             direct   \n",
       "3      facebook            0       en            direct             direct   \n",
       "4         basic            0       en            direct             direct   \n",
       "5         basic            0       en             other              other   \n",
       "6         basic            0       en             other         craigslist   \n",
       "7         basic            0       en            direct             direct   \n",
       "8         basic            0       en             other         craigslist   \n",
       "9         basic            0       en             other         craigslist   \n",
       "\n",
       "  first_affiliate_tracked signup_app first_device_type first_browser  \\\n",
       "0               untracked        Web       Mac Desktop        Chrome   \n",
       "1               untracked        Web       Mac Desktop        Chrome   \n",
       "2               untracked        Web   Windows Desktop            IE   \n",
       "3               untracked        Web       Mac Desktop       Firefox   \n",
       "4               untracked        Web       Mac Desktop        Chrome   \n",
       "5                     omg        Web       Mac Desktop        Chrome   \n",
       "6               untracked        Web       Mac Desktop        Safari   \n",
       "7                     omg        Web       Mac Desktop        Safari   \n",
       "8               untracked        Web       Mac Desktop        Safari   \n",
       "9                     omg        Web       Mac Desktop       Firefox   \n",
       "\n",
       "  age_bucket_col  secs_elapsed  action  year_account_created  \\\n",
       "0            NaN           NaN     NaN                  2010   \n",
       "1          35-39           NaN     NaN                  2011   \n",
       "2          55-59           NaN     NaN                  2010   \n",
       "3          40-44           NaN     NaN                  2011   \n",
       "4          40-44           NaN     NaN                  2010   \n",
       "5            NaN           NaN     NaN                  2010   \n",
       "6          45-49           NaN     NaN                  2010   \n",
       "7          45-49           NaN     NaN                  2010   \n",
       "8          45-49           NaN     NaN                  2010   \n",
       "9          45-49           NaN     NaN                  2010   \n",
       "\n",
       "   month_account_created  dayinmonth_account_created  \\\n",
       "0                      6                          28   \n",
       "1                      5                          25   \n",
       "2                      9                          28   \n",
       "3                     12                           5   \n",
       "4                      9                          14   \n",
       "5                      1                           1   \n",
       "6                      1                           2   \n",
       "7                      1                           3   \n",
       "8                      1                           4   \n",
       "9                      1                           4   \n",
       "\n",
       "   dayinweek_account_created days_delay  Holiday  gender_le  signup_method_le  \\\n",
       "0                          1   466 days    False          0                 1   \n",
       "1                          3   732 days    False          2                 1   \n",
       "2                          2   476 days    False          1                 0   \n",
       "3                          1   765 days    False          1                 1   \n",
       "4                          2   280 days    False          0                 0   \n",
       "5                          5     0 days     True          0                 0   \n",
       "6                          6     0 days    False          1                 0   \n",
       "7                          7     0 days    False          1                 0   \n",
       "8                          1     0 days    False          1                 0   \n",
       "9                          1     0 days    False          0                 0   \n",
       "\n",
       "   signup_flow_le  language_le  affiliate_channel_le  affiliate_provider_le  \\\n",
       "0               0            6                     2                      4   \n",
       "1               0            6                     7                      8   \n",
       "2               3            6                     2                      4   \n",
       "3               0            6                     2                      4   \n",
       "4               0            6                     2                      4   \n",
       "5               0            6                     3                     12   \n",
       "6               0            6                     3                      2   \n",
       "7               0            6                     2                      4   \n",
       "8               0            6                     3                      2   \n",
       "9               0            6                     3                      2   \n",
       "\n",
       "   signup_app_le  first_device_type_le  first_browser_le  \\\n",
       "0              2                     3                 8   \n",
       "1              2                     3                 8   \n",
       "2              2                     6                22   \n",
       "3              2                     3                17   \n",
       "4              2                     3                 8   \n",
       "5              2                     3                 8   \n",
       "6              2                     3                43   \n",
       "7              2                     3                43   \n",
       "8              2                     3                43   \n",
       "9              2                     3                17   \n",
       "\n",
       "   first_affiliate_tracked_le  \n",
       "0                           7  \n",
       "1                           7  \n",
       "2                           7  \n",
       "3                           7  \n",
       "4                           7  \n",
       "5                           4  \n",
       "6                           7  \n",
       "7                           4  \n",
       "8                           7  \n",
       "9                           4  "
      ]
     },
     "execution_count": 39,
     "metadata": {},
     "output_type": "execute_result"
    }
   ],
   "source": [
    "full_data.head(10)"
   ]
  },
  {
   "cell_type": "code",
   "execution_count": 40,
   "metadata": {},
   "outputs": [
    {
     "data": {
      "text/plain": [
       "id                                     object\n",
       "date_account_created           datetime64[ns]\n",
       "timestamp_first_active         datetime64[ns]\n",
       "gender                                 object\n",
       "age                                   float64\n",
       "signup_method                          object\n",
       "signup_flow                             int64\n",
       "language                               object\n",
       "affiliate_channel                      object\n",
       "affiliate_provider                     object\n",
       "first_affiliate_tracked                object\n",
       "signup_app                             object\n",
       "first_device_type                      object\n",
       "first_browser                          object\n",
       "age_bucket_col                       category\n",
       "secs_elapsed                          float64\n",
       "action                                float64\n",
       "year_account_created                    int64\n",
       "month_account_created                   int64\n",
       "dayinmonth_account_created              int64\n",
       "dayinweek_account_created               int64\n",
       "days_delay                    timedelta64[ns]\n",
       "Holiday                                  bool\n",
       "gender_le                               int64\n",
       "signup_method_le                        int64\n",
       "signup_flow_le                          int64\n",
       "language_le                             int64\n",
       "affiliate_channel_le                    int64\n",
       "affiliate_provider_le                   int64\n",
       "signup_app_le                           int64\n",
       "first_device_type_le                    int64\n",
       "first_browser_le                        int64\n",
       "first_affiliate_tracked_le              int64\n",
       "dtype: object"
      ]
     },
     "execution_count": 40,
     "metadata": {},
     "output_type": "execute_result"
    }
   ],
   "source": [
    "full_data.dtypes"
   ]
  },
  {
   "cell_type": "markdown",
   "metadata": {},
   "source": [
    "@Andy, I think the sequence of actions gives some interesting features, similar to extracting bigrams from a vectorized text, the counts of pairs of consecutive actions as features. I did extract all bigrams, but just realized yesterday that some could be discarded depending on the secs_elapsed, since some are not actually transitions in a typical user session. Not sure if a 'sessionized' extraction would affect scores, but would like to have had more time to try..."
   ]
  },
  {
   "cell_type": "markdown",
   "metadata": {
    "collapsed": true
   },
   "source": [
    "#### Label Encoding"
   ]
  },
  {
   "cell_type": "code",
   "execution_count": 41,
   "metadata": {},
   "outputs": [
    {
     "name": "stdout",
     "output_type": "stream",
     "text": [
      "Label Encoding gender\n",
      "Label Encoding signup_method\n",
      "Label Encoding signup_flow\n",
      "Label Encoding language\n",
      "Label Encoding affiliate_channel\n",
      "Label Encoding affiliate_provider\n",
      "Label Encoding first_affiliate_tracked\n",
      "Label Encoding signup_app\n",
      "Label Encoding first_device_type\n",
      "Label Encoding first_browser\n",
      "Label Encoding year_account_created\n",
      "Label Encoding month_account_created\n",
      "Label Encoding dayinmonth_account_created\n",
      "Label Encoding dayinweek_account_created\n",
      "Label Encoding days_delay\n",
      "Label Encoding Holiday\n",
      "Label-encoded feaures: ['gender_le', 'signup_method_le', 'signup_flow_le', 'language_le', 'affiliate_channel_le', 'affiliate_provider_le', 'first_affiliate_tracked_le', 'signup_app_le', 'first_device_type_le', 'first_browser_le', 'year_account_created_le', 'month_account_created_le', 'dayinmonth_account_created_le', 'dayinweek_account_created_le', 'days_delay_le', 'Holiday_le']\n"
     ]
    }
   ],
   "source": [
    "#TypeError: unorderable types: float() > str(): need to .fillna()\n",
    "#ValueError: fill value must be in categories: 'age_bucket_col' is already in categorical type\n",
    "label_encoder = LabelEncoder()\n",
    "\n",
    "cat_feats = ['gender', 'signup_method', 'signup_flow', 'language', 'affiliate_channel', 'affiliate_provider', \n",
    "            'first_affiliate_tracked', 'signup_app', 'first_device_type', 'first_browser', \n",
    "             'year_account_created', 'month_account_created', 'dayinmonth_account_created', \n",
    "             'dayinweek_account_created', 'days_delay', 'Holiday']\n",
    "LE_vars=[]\n",
    "LE_map=dict()\n",
    "for cat_var in cat_feats:\n",
    "    print (\"Label Encoding %s\" % (cat_var))\n",
    "    LE_var=cat_var+'_le'\n",
    "    full_data[LE_var]=label_encoder.fit_transform(full_data[cat_var].fillna('NaN'))\n",
    "    LE_vars.append(LE_var)\n",
    "    LE_map[cat_var]=label_encoder.classes_\n",
    "    \n",
    "print (\"Label-encoded feaures: %s\" % (LE_vars))"
   ]
  },
  {
   "cell_type": "markdown",
   "metadata": {},
   "source": [
    "#### One-hot Encoding"
   ]
  },
  {
   "cell_type": "code",
   "execution_count": 42,
   "metadata": {},
   "outputs": [
    {
     "name": "stdout",
     "output_type": "stream",
     "text": [
      "OHE_sparse size : (275547, 354)\n",
      "One-hot encoded catgorical feature samples : ['gen_-unknown-', 'gen_FEMALE', 'gen_MALE', 'gen_OTHER', 'signup_met_basic', 'signup_met_facebook', 'signup_met_google', 'signup_met_weibo', 'signup_f_0', 'signup_f_1', 'signup_f_2', 'signup_f_3', 'signup_f_4', 'signup_f_5', 'signup_f_6', 'signup_f_8', 'signup_f_10', 'signup_f_12', 'signup_f_14', 'signup_f_15', 'signup_f_16', 'signup_f_20', 'signup_f_21', 'signup_f_23', 'signup_f_24', 'signup_f_25', 'langu_-unknown-', 'langu_ca', 'langu_cs', 'langu_da', 'langu_de', 'langu_el', 'langu_en', 'langu_es', 'langu_fi', 'langu_fr', 'langu_hr', 'langu_hu', 'langu_id', 'langu_is', 'langu_it', 'langu_ja', 'langu_ko', 'langu_nl', 'langu_no', 'langu_pl', 'langu_pt', 'langu_ru', 'langu_sv', 'langu_th', 'langu_tr', 'langu_zh', 'affiliate_chan_api', 'affiliate_chan_content', 'affiliate_chan_direct', 'affiliate_chan_other', 'affiliate_chan_remarketing', 'affiliate_chan_sem-brand', 'affiliate_chan_sem-non-brand', 'affiliate_chan_seo', 'affiliate_provi_baidu', 'affiliate_provi_bing', 'affiliate_provi_craigslist', 'affiliate_provi_daum', 'affiliate_provi_direct', 'affiliate_provi_email-marketing', 'affiliate_provi_facebook', 'affiliate_provi_facebook-open-graph', 'affiliate_provi_google', 'affiliate_provi_gsp', 'affiliate_provi_meetup', 'affiliate_provi_naver', 'affiliate_provi_other', 'affiliate_provi_padmapper', 'affiliate_provi_vast', 'affiliate_provi_wayn', 'affiliate_provi_yahoo', 'affiliate_provi_yandex', 'first_affiliate_trac_NaN', 'first_affiliate_trac_linked', 'first_affiliate_trac_local_ops', 'first_affiliate_trac_marketing', 'first_affiliate_trac_omg', 'first_affiliate_trac_product', 'first_affiliate_trac_tracked-other', 'first_affiliate_trac_untracked', 'signup__Android', 'signup__Moweb', 'signup__Web', 'signup__iOS', 'first_device_t_Android_Phone', 'first_device_t_Android_Tablet', 'first_device_t_Desktop_(Other)', 'first_device_t_Mac_Desktop', 'first_device_t_Other/Unknown', 'first_device_t_SmartPhone_(Other)', 'first_device_t_Windows_Desktop', 'first_device_t_iPad', 'first_device_t_iPhone', 'first_brow_-unknown-']\n",
      "CPU times: user 2.19 s, sys: 492 ms, total: 2.68 s\n",
      "Wall time: 2.74 s\n"
     ]
    }
   ],
   "source": [
    "%%time\n",
    "\n",
    "OHE = OneHotEncoder(sparse=True)\n",
    "OHE.fit(full_data[LE_vars])\n",
    "OHE_sparse=OHE.transform(full_data[LE_vars])\n",
    "OHE_vars = [var[:-3] + '_' + str(level).replace(' ','_')\\\n",
    "                for var in cat_feats for level in LE_map[var] ]\n",
    "\n",
    "print (\"OHE_sparse size :\" ,OHE_sparse.shape)\n",
    "print (\"One-hot encoded catgorical feature samples : %s\" % (OHE_vars[:100]))"
   ]
  },
  {
   "cell_type": "code",
   "execution_count": 44,
   "metadata": {
    "collapsed": true
   },
   "outputs": [],
   "source": [
    "train_x = OHE_sparse[:num_rows_train]\n",
    "test_x = OHE_sparse[num_rows_train:]\n",
    "#train_y = target"
   ]
  },
  {
   "cell_type": "markdown",
   "metadata": {},
   "source": [
    "#### Label encode `country_destination`"
   ]
  },
  {
   "cell_type": "code",
   "execution_count": 73,
   "metadata": {},
   "outputs": [],
   "source": [
    "target = label_encoder.fit_transform(train_users_data['country_destination'])\n",
    "country_code_map=dict(zip(label_encoder.classes_, label_encoder.transform(label_encoder.classes_)))"
   ]
  },
  {
   "cell_type": "code",
   "execution_count": 74,
   "metadata": {},
   "outputs": [
    {
     "data": {
      "text/plain": [
       "{'AU': 0,\n",
       " 'CA': 1,\n",
       " 'DE': 2,\n",
       " 'ES': 3,\n",
       " 'FR': 4,\n",
       " 'GB': 5,\n",
       " 'IT': 6,\n",
       " 'NDF': 7,\n",
       " 'NL': 8,\n",
       " 'PT': 9,\n",
       " 'US': 10,\n",
       " 'other': 11}"
      ]
     },
     "execution_count": 74,
     "metadata": {},
     "output_type": "execute_result"
    }
   ],
   "source": [
    "# map between country and its code\n",
    "country_code_map"
   ]
  },
  {
   "cell_type": "code",
   "execution_count": 81,
   "metadata": {},
   "outputs": [],
   "source": [
    "xgb_params = {\n",
    "    'max_depth': 6,\n",
    "    'min_child_weight': 1,\n",
    "    'subsample': 0.5,\n",
    "    'colsample_bytree': 0.5,\n",
    "    'gamma': 0,\n",
    "    'objective': 'multi:softprob',\n",
    "    'eta': 0.3,\n",
    "    'seed': 1234,\n",
    "    'num_class': 12}\n",
    "\n",
    "model = xgb.train(xgb_params, \n",
    "                  xgb.DMatrix(train_x, label = target)\n",
    "                 )\n",
    "\n",
    "preds = model.predict(xgb.DMatrix(test_x))"
   ]
  },
  {
   "cell_type": "code",
   "execution_count": 75,
   "metadata": {},
   "outputs": [],
   "source": [
    "ids = []  #list of ids\n",
    "cts = []  #list of countries\n",
    "for i in range(len(id_test)):\n",
    "    idx = id_test[i]\n",
    "    ids += [idx] * 5\n",
    "    cts += label_encoder.inverse_transform(np.argsort(preds[i])[::-1])[:5].tolist()"
   ]
  },
  {
   "cell_type": "code",
   "execution_count": 82,
   "metadata": {},
   "outputs": [],
   "source": [
    "sub = pd.DataFrame(np.column_stack((ids, cts)), columns=['id', 'country'])\n",
    "sub.to_csv('sub.csv',index=False)"
   ]
  }
 ],
 "metadata": {
  "kernelspec": {
   "display_name": "Python 3",
   "language": "python",
   "name": "python3"
  },
  "language_info": {
   "codemirror_mode": {
    "name": "ipython",
    "version": 3
   },
   "file_extension": ".py",
   "mimetype": "text/x-python",
   "name": "python",
   "nbconvert_exporter": "python",
   "pygments_lexer": "ipython3",
   "version": "3.5.4"
  },
  "toc": {
   "nav_menu": {},
   "number_sections": true,
   "sideBar": true,
   "skip_h1_title": false,
   "toc_cell": false,
   "toc_position": {},
   "toc_section_display": "block",
   "toc_window_display": false
  }
 },
 "nbformat": 4,
 "nbformat_minor": 1
}
